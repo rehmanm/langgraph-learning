{
 "cells": [
  {
   "cell_type": "code",
   "execution_count": 7,
   "id": "8e2ed345-2276-411a-b164-6c4e49a0865c",
   "metadata": {},
   "outputs": [],
   "source": [
    "%%capture --no-stderr\n",
    "%pip install --quiet -U langchain_openai langchain_core langgraph langchain[google-genai]"
   ]
  },
  {
   "cell_type": "code",
   "execution_count": 8,
   "id": "0ec15a7a-a7ff-45b6-a2a3-f7ba0cfd9f06",
   "metadata": {},
   "outputs": [
    {
     "name": "stdout",
     "output_type": "stream",
     "text": [
      "==================================\u001b[1m Ai Message \u001b[0m==================================\n",
      "Name: Model\n",
      "\n",
      "So you said you were researching ocean mamals\n",
      "================================\u001b[1m Human Message \u001b[0m=================================\n",
      "Name: Lance\n",
      "\n",
      "Yes you are right\n",
      "==================================\u001b[1m Ai Message \u001b[0m==================================\n",
      "Name: Model\n",
      "\n",
      "Great, what would you like to learn about.\n",
      "================================\u001b[1m Human Message \u001b[0m=================================\n",
      "Name: Lance\n",
      "\n",
      "I want to learn about the best place to see Orcas in the US.\n"
     ]
    }
   ],
   "source": [
    "from pprint import pprint\n",
    "\n",
    "from langchain_core.messages import AIMessage, HumanMessage\n",
    "\n",
    "messages = [AIMessage(content=f\"So you said you were researching ocean mamals\", name = \"Model\")]\n",
    "messages.append(HumanMessage(content = f\"Yes you are right\", name = \"Lance\"))\n",
    "messages.append(AIMessage(content=f\"Great, what would you like to learn about.\", name=\"Model\"))\n",
    "messages.append(HumanMessage(content=f\"I want to learn about the best place to see Orcas in the US.\", name=\"Lance\"))\n",
    "\n",
    "for m in messages:\n",
    "    m.pretty_print()"
   ]
  },
  {
   "cell_type": "code",
   "execution_count": 9,
   "id": "b34c7930-08a7-44e2-a0fb-ea8e176aaefd",
   "metadata": {},
   "outputs": [],
   "source": [
    "import os, getpass\n",
    "\n",
    "def _set_env(var: str):\n",
    "    if not os.environ.get(var):\n",
    "        os.environ[var] = getpass.getpass(f\"{var}: \")\n",
    "\n",
    "_set_env(\"GOOGLE_API_KEY\")"
   ]
  },
  {
   "cell_type": "code",
   "execution_count": 11,
   "id": "81babd57-31de-4afd-9958-56b5592431c4",
   "metadata": {},
   "outputs": [],
   "source": [
    "from langchain_google_genai import ChatGoogleGenerativeAI\n",
    "\n",
    "#from langchain.chat_models import init_chat_model\n",
    "llm = ChatGoogleGenerativeAI(model=\"gemini-2.0-flash\", temperature=0.0) \n",
    "\n",
    "#llm = init_chat_model(\"gemini-2.5-flash\", model_provider=\"google_genai\")"
   ]
  },
  {
   "cell_type": "code",
   "execution_count": 12,
   "id": "e95e765c-8471-464e-9c2d-4ddeaf4330f6",
   "metadata": {},
   "outputs": [],
   "source": [
    "result = llm.invoke(messages)"
   ]
  },
  {
   "cell_type": "code",
   "execution_count": 13,
   "id": "f59ea7d7-5475-4340-9fb0-e4ee2a8086c0",
   "metadata": {},
   "outputs": [
    {
     "data": {
      "text/plain": [
       "AIMessage(content='Okay! When it comes to Orca (Killer Whale) sightings in the US, the **Pacific Northwest** is definitely the prime location. Here\\'s a breakdown of some of the best places, considering different factors:\\n\\n**1. San Juan Islands, Washington State:**\\n\\n*   **Why it\\'s great:** This is arguably the *most* famous and reliable place to see Orcas in the US. The Southern Resident Killer Whales (SRKW) are frequently found here, especially during the summer months (May-September) when they follow salmon runs.\\n*   **How to see them:**\\n    *   **Whale Watching Tours:** Numerous reputable tour operators depart from Friday Harbor, San Juan Island, and other nearby locations. They use hydrophones to listen for Orca calls and follow responsible viewing guidelines.\\n    *   **Land-Based Viewing:** Lime Kiln Point State Park (nicknamed \"Whale Watch Park\") on San Juan Island is a fantastic spot for land-based viewing. You\\'ll need binoculars and patience, but it\\'s free (aside from park entrance fees).\\n*   **Things to consider:** The SRKW population is endangered, so responsible whale watching is crucial. Choose operators committed to ethical practices.\\n\\n**2. Puget Sound, Washington State:**\\n\\n*   **Why it\\'s great:** Puget Sound is a larger body of water that includes the San Juan Islands. Orcas, including the SRKW and transient (Bigg\\'s) Orcas, can be seen throughout the Sound.\\n*   **How to see them:**\\n    *   **Whale Watching Tours:** Tours depart from Seattle, Edmonds, and other Puget Sound cities.\\n    *   **Land-Based Viewing:** Various parks and viewpoints along the Sound offer potential sightings.\\n*   **Things to consider:** Sightings can be less predictable than in the San Juan Islands, but the convenience of departing from Seattle makes it an attractive option for some.\\n\\n**3. Kenai Fjords National Park, Alaska:**\\n\\n*   **Why it\\'s great:** While not as famous as the San Juan Islands for Orcas, Kenai Fjords offers stunning scenery and a good chance of seeing Orcas, along with other marine wildlife like humpback whales, sea otters, and seals.\\n*   **How to see them:**\\n    *   **Wildlife Cruises:** Boat tours are the primary way to see Orcas in Kenai Fjords. These cruises often cover a large area and increase your chances of encountering wildlife.\\n*   **Things to consider:** The Orca population here is different from the SRKW. The season is shorter, typically running from May to September.\\n\\n**4. Resurrection Bay, Alaska:**\\n\\n*   **Why it\\'s great:** Resurrection Bay is located near Seward, Alaska, and is a great place to see Orcas.\\n*   **How to see them:**\\n    *   **Wildlife Cruises:** Boat tours are the primary way to see Orcas in Resurrection Bay. These cruises often cover a large area and increase your chances of encountering wildlife.\\n*   **Things to consider:** The Orca population here is different from the SRKW. The season is shorter, typically running from May to September.\\n\\n**Key Factors to Consider When Choosing a Location:**\\n\\n*   **Time of Year:** Orca sightings are generally more frequent during the summer months (May-September) in the Pacific Northwest, coinciding with salmon runs.\\n*   **Type of Orca:** The San Juan Islands are known for the Southern Resident Killer Whales (SRKW), while other areas may have more transient (Bigg\\'s) Orcas.\\n*   **Budget:** Whale watching tours can vary in price. Land-based viewing is a more budget-friendly option.\\n*   **Accessibility:** Consider the ease of getting to the location and the availability of accommodations.\\n*   **Ethical Considerations:** Choose tour operators committed to responsible whale watching practices.\\n\\n**In summary, if your primary goal is to see Orcas, the San Juan Islands in Washington State are your best bet, especially during the summer months. However, Kenai Fjords in Alaska offers a broader wildlife viewing experience with a good chance of seeing Orcas as well.**\\n\\nDo you have any other questions about these locations or anything else about Orcas?', additional_kwargs={}, response_metadata={'prompt_feedback': {'block_reason': 0, 'safety_ratings': []}, 'finish_reason': 'STOP', 'model_name': 'gemini-2.0-flash', 'safety_ratings': []}, id='run--d44cbf17-782a-4f82-8b59-5e9e63f168db-0', usage_metadata={'input_tokens': 39, 'output_tokens': 890, 'total_tokens': 929, 'input_token_details': {'cache_read': 0}})"
      ]
     },
     "execution_count": 13,
     "metadata": {},
     "output_type": "execute_result"
    }
   ],
   "source": [
    "result"
   ]
  },
  {
   "cell_type": "code",
   "execution_count": 14,
   "id": "ee4db164-e549-45b5-8971-54d74f529a47",
   "metadata": {},
   "outputs": [],
   "source": [
    "def multiply(a: int, b:int) -> int:\n",
    "    \"\"\"\n",
    "        Multiply a and b\n",
    "        Args:\n",
    "            a: first int\n",
    "            b: second int\n",
    "    \n",
    "    \"\"\"\n",
    "    return a * b\n",
    "\n",
    "llm_with_tools = llm.bind_tools([multiply])\n"
   ]
  },
  {
   "cell_type": "code",
   "execution_count": 15,
   "id": "cdf3343e-5d23-490b-868d-8dd06a8cb501",
   "metadata": {},
   "outputs": [],
   "source": [
    "tool_call = llm_with_tools.invoke([\n",
    "    HumanMessage(content=f\"What is 2 multiplied by 3\", name=\"Lance\")    \n",
    "])"
   ]
  },
  {
   "cell_type": "code",
   "execution_count": 16,
   "id": "5d41229f-2542-487e-98c9-d89d26210f09",
   "metadata": {},
   "outputs": [
    {
     "data": {
      "text/plain": [
       "AIMessage(content='', additional_kwargs={'function_call': {'name': 'multiply', 'arguments': '{\"b\": 3.0, \"a\": 2.0}'}}, response_metadata={'prompt_feedback': {'block_reason': 0, 'safety_ratings': []}, 'finish_reason': 'STOP', 'model_name': 'gemini-2.0-flash', 'safety_ratings': []}, id='run--9f5aa34e-2c6a-4681-92c4-8d085fc253b1-0', tool_calls=[{'name': 'multiply', 'args': {'b': 3.0, 'a': 2.0}, 'id': '8e6d1d17-f966-4629-b1bc-ee454a6f4f08', 'type': 'tool_call'}], usage_metadata={'input_tokens': 35, 'output_tokens': 5, 'total_tokens': 40, 'input_token_details': {'cache_read': 0}})"
      ]
     },
     "execution_count": 16,
     "metadata": {},
     "output_type": "execute_result"
    }
   ],
   "source": [
    "tool_call"
   ]
  },
  {
   "cell_type": "code",
   "execution_count": 17,
   "id": "27063595-eabb-4ae4-a5d7-b546e5d134ab",
   "metadata": {},
   "outputs": [
    {
     "data": {
      "text/plain": [
       "[{'name': 'multiply',\n",
       "  'args': {'b': 3.0, 'a': 2.0},\n",
       "  'id': '8e6d1d17-f966-4629-b1bc-ee454a6f4f08',\n",
       "  'type': 'tool_call'}]"
      ]
     },
     "execution_count": 17,
     "metadata": {},
     "output_type": "execute_result"
    }
   ],
   "source": [
    "tool_call.tool_calls"
   ]
  },
  {
   "cell_type": "code",
   "execution_count": 20,
   "id": "e02c1ee9-3594-4105-9894-ab8af122bbbe",
   "metadata": {},
   "outputs": [],
   "source": [
    "from typing import TypedDict\n",
    "from typing import Annotated\n",
    "\n",
    "from langchain_core.messages import AnyMessage\n",
    "from langgraph.graph.message import add_messages\n",
    "\n",
    "class MessagesState(TypedDict):\n",
    "    messages: Annotated[list[AnyMessage], add_messages]\n",
    "    "
   ]
  },
  {
   "cell_type": "code",
   "execution_count": 19,
   "id": "3e216ca1-0d9a-4aa6-b416-278ebf402395",
   "metadata": {},
   "outputs": [
    {
     "data": {
      "text/plain": [
       "[AIMessage(content='Hello! How can I assist you?', additional_kwargs={}, response_metadata={}, name='Model', id='ba50ace4-65f8-4a30-a0cc-3f9ce0067679'),\n",
       " HumanMessage(content=\"I'm looking for information on marine biology.\", additional_kwargs={}, response_metadata={}, name='Lance', id='f48c3112-5000-472f-85f2-6e927a4d7c7a'),\n",
       " AIMessage(content='Sure, I can help with that. What specifically are you interested in?', additional_kwargs={}, response_metadata={}, name='Model', id='fa6fd0a8-1edf-4049-a54b-b76cc5c67218')]"
      ]
     },
     "execution_count": 19,
     "metadata": {},
     "output_type": "execute_result"
    }
   ],
   "source": [
    "# Initial state\n",
    "initial_messages = [AIMessage(content=\"Hello! How can I assist you?\", name=\"Model\"),\n",
    "                    HumanMessage(content=\"I'm looking for information on marine biology.\", name=\"Lance\")\n",
    "                   ]\n",
    "\n",
    "# New message to add\n",
    "new_message = AIMessage(content=\"Sure, I can help with that. What specifically are you interested in?\", name=\"Model\")\n",
    "\n",
    "# Test\n",
    "add_messages(initial_messages , new_message)"
   ]
  },
  {
   "cell_type": "code",
   "execution_count": 25,
   "id": "7132edbe-765c-4434-bca8-64c17bae0859",
   "metadata": {},
   "outputs": [
    {
     "data": {
      "image/png": "[encoded data removed]",
      "text/plain": [
       "<IPython.core.display.Image object>"
      ]
     },
     "metadata": {},
     "output_type": "display_data"
    }
   ],
   "source": [
    "from IPython.display import Image, display\n",
    "from langgraph.graph import StateGraph, START, END\n",
    "\n",
    "def tool_calling_llm(state: MessagesState):\n",
    "    return {\"messages\": llm_with_tools.invoke(state[\"messages\"])}\n",
    "\n",
    "\n",
    "builder = StateGraph(MessagesState)\n",
    "builder.add_node(\"tool_calling_llm\", tool_calling_llm)\n",
    "builder.add_edge(START, \"tool_calling_llm\")\n",
    "builder.add_edge(\"tool_calling_llm\", END)\n",
    "\n",
    "graph = builder.compile()\n",
    "\n",
    "display(Image(graph.get_graph().draw_mermaid_png()))\n"
   ]
  },
  {
   "cell_type": "code",
   "execution_count": 26,
   "id": "068235f8-7d62-4264-972f-3abadda951cb",
   "metadata": {},
   "outputs": [
    {
     "data": {
      "text/plain": [
       "{'messages': [HumanMessage(content='Hello', additional_kwargs={}, response_metadata={}, id='45683548-8068-4078-a046-b97edcf28149'),\n",
       "  AIMessage(content='Hello! How can I help you today?', additional_kwargs={}, response_metadata={'prompt_feedback': {'block_reason': 0, 'safety_ratings': []}, 'finish_reason': 'STOP', 'model_name': 'gemini-2.0-flash', 'safety_ratings': []}, id='run--6a5b235a-694f-4e72-b0ac-35ddd4dc1933-0', usage_metadata={'input_tokens': 28, 'output_tokens': 10, 'total_tokens': 38, 'input_token_details': {'cache_read': 0}})]}"
      ]
     },
     "execution_count": 26,
     "metadata": {},
     "output_type": "execute_result"
    }
   ],
   "source": [
    "messages = graph.invoke({\n",
    "    \"messages\": HumanMessage(content = \"Hello\")\n",
    "})\n",
    "\n",
    "messages"
   ]
  },
  {
   "cell_type": "code",
   "execution_count": 27,
   "id": "139e0077-e751-4388-b043-7d7a272b2c1f",
   "metadata": {},
   "outputs": [
    {
     "data": {
      "text/plain": [
       "{'messages': [HumanMessage(content='What is 2 multiply 3', additional_kwargs={}, response_metadata={}, id='de44300c-355a-483c-a599-92995d1bfa08'),\n",
       "  AIMessage(content='', additional_kwargs={'function_call': {'name': 'multiply', 'arguments': '{\"b\": 3.0, \"a\": 2.0}'}}, response_metadata={'prompt_feedback': {'block_reason': 0, 'safety_ratings': []}, 'finish_reason': 'STOP', 'model_name': 'gemini-2.0-flash', 'safety_ratings': []}, id='run--1b878dcf-c0d0-44ea-aa40-798e8d734029-0', tool_calls=[{'name': 'multiply', 'args': {'b': 3.0, 'a': 2.0}, 'id': '029dfbf4-67a1-45e4-8fc1-6bce12a8240e', 'type': 'tool_call'}], usage_metadata={'input_tokens': 34, 'output_tokens': 5, 'total_tokens': 39, 'input_token_details': {'cache_read': 0}})]}"
      ]
     },
     "execution_count": 27,
     "metadata": {},
     "output_type": "execute_result"
    }
   ],
   "source": [
    "messages = graph.invoke({\n",
    "    \"messages\": HumanMessage(content = \"What is 2 multiply 3\")\n",
    "})\n",
    "\n",
    "messages"
   ]
  },
  {
   "cell_type": "code",
   "execution_count": 28,
   "id": "341ab20e-b07e-4bc6-aca4-65904a0b75a4",
   "metadata": {},
   "outputs": [
    {
     "name": "stdout",
     "output_type": "stream",
     "text": [
      "================================\u001b[1m Human Message \u001b[0m=================================\n",
      "\n",
      "What is 2 multiply 3\n",
      "==================================\u001b[1m Ai Message \u001b[0m==================================\n",
      "Tool Calls:\n",
      "  multiply (029dfbf4-67a1-45e4-8fc1-6bce12a8240e)\n",
      " Call ID: 029dfbf4-67a1-45e4-8fc1-6bce12a8240e\n",
      "  Args:\n",
      "    b: 3.0\n",
      "    a: 2.0\n"
     ]
    }
   ],
   "source": [
    "for m in messages['messages']:\n",
    "    m.pretty_print()"
   ]
  },
  {
   "cell_type": "code",
   "execution_count": null,
   "id": "f1e57152-6659-47f5-a1d6-1530f492b112",
   "metadata": {},
   "outputs": [],
   "source": []
  }
 ],
 "metadata": {
  "kernelspec": {
   "display_name": "Python 3 (ipykernel)",
   "language": "python",
   "name": "python3"
  },
  "language_info": {
   "codemirror_mode": {
    "name": "ipython",
    "version": 3
   },
   "file_extension": ".py",
   "mimetype": "text/x-python",
   "name": "python",
   "nbconvert_exporter": "python",
   "pygments_lexer": "ipython3",
   "version": "3.13.5"
  }
 },
 "nbformat": 4,
 "nbformat_minor": 5
}
