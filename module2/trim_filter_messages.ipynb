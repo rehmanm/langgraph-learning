{
 "cells": [
  {
   "cell_type": "code",
   "execution_count": 12,
   "id": "f7878ffe",
   "metadata": {},
   "outputs": [],
   "source": [
    "%%capture --no-stderr\n",
    "%pip install --quiet -U langgraph langchain_google_genai"
   ]
  },
  {
   "cell_type": "code",
   "execution_count": 13,
   "id": "2c2c80be",
   "metadata": {},
   "outputs": [],
   "source": [
    "import os, getpass\n",
    "\n",
    "def _set_env(var: str):\n",
    "    if not os.environ.get(var):\n",
    "        os.environ[var] = getpass.getpass(f\"{var}: \")\n",
    "\n",
    "_set_env(\"GOOGLE_API_KEY\")"
   ]
  },
  {
   "cell_type": "code",
   "execution_count": 14,
   "id": "7f8b6fbd",
   "metadata": {},
   "outputs": [],
   "source": [
    "_set_env(\"LANGSMITH_API_KEY\")\n",
    "os.environ[\"LANGSMITH_TRACING\"] = \"true\"\n",
    "os.environ[\"LANGSMITH_PROJECT\"] = \"langchain-academy\""
   ]
  },
  {
   "cell_type": "code",
   "execution_count": 15,
   "id": "7e7abd36",
   "metadata": {},
   "outputs": [
    {
     "name": "stdout",
     "output_type": "stream",
     "text": [
      "==================================\u001b[1m Ai Message \u001b[0m==================================\n",
      "Name: bot\n",
      "\n",
      "So you said, you were researching ocean mamals\n",
      "================================\u001b[1m Human Message \u001b[0m=================================\n",
      "Name: M\n",
      "\n",
      "Yes, I know about whales, But what other should I learn about\n"
     ]
    }
   ],
   "source": [
    "from pprint import pprint\n",
    "\n",
    "from langchain_core.messages import AIMessage, HumanMessage\n",
    "\n",
    "messages = [AIMessage(f\"So you said, you were researching ocean mamals\", name=\"bot\")]\n",
    "messages.append(HumanMessage(f\"Yes, I know about whales, But what other should I learn about\", name=\"M\"))\n",
    "\n",
    "for m in messages:\n",
    "    m.pretty_print()"
   ]
  },
  {
   "cell_type": "code",
   "execution_count": 16,
   "id": "890bfba8",
   "metadata": {},
   "outputs": [
    {
     "data": {
      "text/plain": [
       "AIMessage(content='Okay, great! Whales are a good start. To broaden your knowledge of ocean mammals, here\\'s a breakdown of other fascinating groups you should learn about, along with some specific examples:\\n\\n**1. Dolphins and Porpoises (Cetaceans - Odontocetes):**\\n\\n*   **Why Learn About Them:** Closely related to whales, but generally smaller and often more social. They exhibit complex communication and intelligence.\\n*   **Key Differences:** Dolphins typically have a streamlined body, a prominent beak (rostrum), and conical teeth. Porpoises tend to be smaller, have a blunt snout, and spade-shaped teeth.\\n*   **Examples:**\\n    *   **Bottlenose Dolphin:** The most well-known dolphin, often seen in aquariums and used in research.\\n    *   **Spinner Dolphin:** Known for their acrobatic leaps and spins out of the water.\\n    *   **Orca (Killer Whale):** Technically a dolphin, the largest member of the dolphin family.\\n    *   **Harbor Porpoise:** A small, shy porpoise found in coastal waters.\\n    *   **Dall\\'s Porpoise:** The fastest of all small cetaceans.\\n\\n**2. Seals, Sea Lions, and Walruses (Pinnipeds):**\\n\\n*   **Why Learn About Them:** These are semi-aquatic mammals adapted for both land and water. They have flippers for swimming and often gather in large colonies on land.\\n*   **Key Differences:**\\n    *   **Seals (True Seals):** Lack external ear flaps, have shorter flippers, and move on land by wriggling.\\n    *   **Sea Lions (Eared Seals):** Have external ear flaps, longer flippers, and can \"walk\" on land by rotating their hind flippers forward.\\n    *   **Walruses:** Easily identified by their prominent tusks, which are used for hauling themselves onto ice and foraging.\\n*   **Examples:**\\n    *   **Harbor Seal:** A common seal found in coastal waters of the Northern Hemisphere.\\n    *   **Grey Seal:** A large seal with a distinctive Roman nose.\\n    *   **California Sea Lion:** Often seen performing in zoos and aquariums.\\n    *   **Steller Sea Lion:** One of the largest sea lions, found in the North Pacific.\\n    *   **Walrus:** Found in the Arctic, known for their tusks and thick blubber.\\n\\n**3. Manatees and Dugongs (Sirenians):**\\n\\n*   **Why Learn About Them:** These are gentle, herbivorous marine mammals often called \"sea cows.\" They are slow-moving and vulnerable to habitat loss and boat strikes.\\n*   **Key Differences:** Manatees have paddle-shaped tails, while dugongs have fluke-like tails similar to dolphins. Manatees are found in the Americas and Africa, while dugongs are found in the Indo-Pacific region.\\n*   **Examples:**\\n    *   **West Indian Manatee:** Found in the southeastern United States, the Caribbean, and South America.\\n    *   **West African Manatee:** Found along the coast of West Africa.\\n    *   **Dugong:** Found in the warm coastal waters of the Indo-Pacific.\\n\\n**4. Sea Otters (Mustelids):**\\n\\n*   **Why Learn About Them:** The smallest marine mammal in North America, known for their playful behavior and use of tools (like rocks to crack open shellfish). They are a keystone species in kelp forest ecosystems.\\n*   **Key Features:** Dense fur, webbed feet, and a reliance on kelp forests for shelter and food.\\n*   **Examples:**\\n    *   **Sea Otter:** Found along the Pacific coast of North America.\\n\\n**5. Polar Bears (Ursids):**\\n\\n*   **Why Learn About Them:** Highly adapted to Arctic environments, relying on sea ice for hunting seals. They are facing significant threats due to climate change and the loss of sea ice.\\n*   **Key Features:** Thick fur, a layer of blubber, and large paws for swimming and walking on ice.\\n*   **Examples:**\\n    *   **Polar Bear:** Found in the Arctic regions of the world.\\n\\n**Where to Start Your Research:**\\n\\n*   **Online Resources:**\\n    *   **NOAA Fisheries:** (fisheries.noaa.gov) - Excellent source for information on marine mammal conservation and research.\\n    *   **The Marine Mammal Center:** (marinemammalcenter.org) - Focuses on marine mammal rescue and rehabilitation.\\n    *   **World Wildlife Fund (WWF):** (worldwildlife.org) - Provides information on marine mammal conservation efforts.\\n    *   **Ocean Conservancy:** (oceanconservancy.org) - Works to protect the ocean and its inhabitants.\\n*   **Books:**\\n    *   Look for field guides to marine mammals specific to your region of interest.\\n    *   General books on marine biology or oceanography often have sections on marine mammals.\\n*   **Documentaries:**\\n    *   Many nature documentaries feature marine mammals, providing visual insights into their behavior and habitats.\\n\\n**Tips for Learning:**\\n\\n*   **Focus on one group at a time:** Don\\'t try to learn everything at once.\\n*   **Pay attention to adaptations:** How are these animals adapted to life in the ocean?\\n*   **Consider conservation status:** What threats do these animals face, and what is being done to protect them?\\n*   **Look for local opportunities:** Are there any marine mammal research or conservation organizations in your area that you can volunteer with or learn from?\\n\\nBy exploring these different groups of ocean mammals, you\\'ll gain a much broader understanding of the diversity and importance of these fascinating creatures. Good luck with your research! Let me know if you have any more questions.', additional_kwargs={}, response_metadata={'prompt_feedback': {'block_reason': 0, 'safety_ratings': []}, 'finish_reason': 'STOP', 'model_name': 'gemini-2.0-flash', 'safety_ratings': []}, id='run--a7cb7433-2b8c-4be2-a3df-dd825de89c3a-0', usage_metadata={'input_tokens': 24, 'output_tokens': 1233, 'total_tokens': 1257, 'input_token_details': {'cache_read': 0}})"
      ]
     },
     "execution_count": 16,
     "metadata": {},
     "output_type": "execute_result"
    }
   ],
   "source": [
    "from langchain_google_genai import ChatGoogleGenerativeAI\n",
    "\n",
    "llm = ChatGoogleGenerativeAI(model=\"gemini-2.0-flash\", temperature=0.0) \n",
    "llm.invoke(messages)"
   ]
  },
  {
   "cell_type": "code",
   "execution_count": 21,
   "id": "97f0f08e",
   "metadata": {},
   "outputs": [
    {
     "data": {
      "image/png": "[encoded data removed]",
      "text/plain": [
       "<IPython.core.display.Image object>"
      ]
     },
     "metadata": {},
     "output_type": "display_data"
    }
   ],
   "source": [
    "from typing_extensions import TypedDict\n",
    "from IPython.display import Image, display\n",
    "from langgraph.graph import StateGraph, START, END\n",
    "from langgraph.graph import MessagesState\n",
    "\n",
    "    \n",
    "def chat_model_node(state: MessagesState):\n",
    "    print(\"---chat_model_node---\")\n",
    "    return {\"messages\": llm.invoke(state[\"messages\"])}\n",
    " \n",
    "\n",
    "builder = StateGraph(MessagesState)\n",
    "\n",
    "builder.add_node(\"chat_model_node\", chat_model_node) \n",
    "\n",
    "builder.add_edge(START, \"chat_model_node\") \n",
    "builder.add_edge(\"chat_model_node\", END)\n",
    "\n",
    "graph = builder.compile()\n",
    "\n",
    "display(Image(graph.get_graph().draw_mermaid_png()))"
   ]
  },
  {
   "cell_type": "code",
   "execution_count": 22,
   "id": "29819c64",
   "metadata": {},
   "outputs": [
    {
     "name": "stdout",
     "output_type": "stream",
     "text": [
      "---chat_model_node---\n",
      "==================================\u001b[1m Ai Message \u001b[0m==================================\n",
      "Name: bot\n",
      "\n",
      "So you said, you were researching ocean mamals\n",
      "================================\u001b[1m Human Message \u001b[0m=================================\n",
      "Name: M\n",
      "\n",
      "Yes, I know about whales, But what other should I learn about\n",
      "==================================\u001b[1m Ai Message \u001b[0m==================================\n",
      "\n",
      "Okay, great! Whales are a good start. To broaden your knowledge of ocean mammals, here's a breakdown of other fascinating groups you should learn about, along with some specific examples:\n",
      "\n",
      "**1. Dolphins and Porpoises (Cetaceans - Odontocetes):**\n",
      "\n",
      "*   **Why Learn About Them:** Closely related to whales, but generally smaller and often more social. They exhibit complex communication and intelligence.\n",
      "*   **Key Differences:** Dolphins typically have a streamlined body, a prominent beak (rostrum), and conical teeth. Porpoises tend to be smaller, have a blunt snout, and spade-shaped teeth.\n",
      "*   **Examples:**\n",
      "    *   **Bottlenose Dolphin:** The most well-known dolphin, often seen in aquariums and used in research.\n",
      "    *   **Spinner Dolphin:** Known for their acrobatic leaps and spins out of the water.\n",
      "    *   **Orca (Killer Whale):** Technically a dolphin, the largest member of the dolphin family.\n",
      "    *   **Harbor Porpoise:** A small, shy porpoise found in coastal waters.\n",
      "    *   **Dall's Porpoise:** The fastest of all small cetaceans.\n",
      "\n",
      "**2. Seals, Sea Lions, and Walruses (Pinnipeds):**\n",
      "\n",
      "*   **Why Learn About Them:** These are semi-aquatic mammals adapted for both land and water. They have flippers for swimming and often gather in large colonies on land.\n",
      "*   **Key Differences:**\n",
      "    *   **Seals (True Seals):** Lack external ear flaps, have shorter flippers, and move on land by wriggling.\n",
      "    *   **Sea Lions (Eared Seals):** Have external ear flaps, longer flippers, and can \"walk\" on land by rotating their hind flippers forward.\n",
      "    *   **Walruses:** Easily identified by their prominent tusks, which are used for hauling themselves onto ice and foraging.\n",
      "*   **Examples:**\n",
      "    *   **Harbor Seal:** A common seal found in coastal waters of the Northern Hemisphere.\n",
      "    *   **Grey Seal:** A large seal with a distinctive Roman nose.\n",
      "    *   **California Sea Lion:** Often seen performing in zoos and aquariums.\n",
      "    *   **Steller Sea Lion:** One of the largest sea lions, found in the North Pacific.\n",
      "    *   **Walrus:** Found in the Arctic, known for their tusks and thick blubber.\n",
      "\n",
      "**3. Manatees and Dugongs (Sirenians):**\n",
      "\n",
      "*   **Why Learn About Them:** These are gentle, herbivorous marine mammals often called \"sea cows.\" They are slow-moving and vulnerable to habitat loss and boat strikes.\n",
      "*   **Key Differences:** Manatees have paddle-shaped tails, while dugongs have fluke-like tails similar to dolphins. Manatees are found in the Americas and Africa, while dugongs are found in the Indo-Pacific region.\n",
      "*   **Examples:**\n",
      "    *   **West Indian Manatee:** Found in the southeastern United States, the Caribbean, and South America.\n",
      "    *   **West African Manatee:** Found along the coast of West Africa.\n",
      "    *   **Dugong:** Found in the warm coastal waters of the Indo-Pacific.\n",
      "\n",
      "**4. Sea Otters (Mustelids):**\n",
      "\n",
      "*   **Why Learn About Them:** The smallest marine mammal in North America, known for their playful behavior and use of tools (like rocks to crack open shellfish). They are a keystone species in kelp forest ecosystems.\n",
      "*   **Key Features:** Dense fur, webbed feet, and a reliance on kelp forests for shelter and food.\n",
      "*   **Examples:**\n",
      "    *   **Sea Otter:** Found along the Pacific coast of North America.\n",
      "\n",
      "**5. Polar Bears (Ursids):**\n",
      "\n",
      "*   **Why Learn About Them:** Highly adapted to Arctic environments, relying on sea ice for hunting seals. They are facing significant threats due to climate change and the loss of sea ice.\n",
      "*   **Key Features:** Thick fur, a layer of blubber, and large paws for swimming and walking on ice.\n",
      "*   **Examples:**\n",
      "    *   **Polar Bear:** Found in the Arctic regions of the world.\n",
      "\n",
      "**Where to Start Your Research:**\n",
      "\n",
      "*   **Online Resources:**\n",
      "    *   **NOAA Fisheries:** (fisheries.noaa.gov) - Excellent source for information on marine mammal conservation and research.\n",
      "    *   **The Marine Mammal Center:** (marinemammalcenter.org) - Focuses on marine mammal rescue and rehabilitation.\n",
      "    *   **World Wildlife Fund (WWF):** (worldwildlife.org) - Provides information on marine mammal conservation efforts.\n",
      "    *   **Ocean Conservancy:** (oceanconservancy.org) - Works to protect the ocean and its inhabitants.\n",
      "*   **Books:**\n",
      "    *   Look for field guides to marine mammals specific to your region of interest.\n",
      "    *   General books on marine biology or oceanography often have sections on marine mammals.\n",
      "*   **Documentaries:**\n",
      "    *   Many nature documentaries feature marine mammals, providing visual insights into their behavior and habitats.\n",
      "\n",
      "**Tips for Learning:**\n",
      "\n",
      "*   **Focus on one group at a time:** Don't try to learn everything at once.\n",
      "*   **Pay attention to adaptations:** How are these animals adapted to life in the ocean?\n",
      "*   **Consider conservation status:** What threats do these animals face, and what is being done to protect them?\n",
      "*   **Look for local opportunities:** Are there any marine mammal research or conservation organizations in your area that you can volunteer with or learn from?\n",
      "\n",
      "By exploring these different groups of ocean mammals, you'll gain a much broader understanding of the diversity and importance of these fascinating creatures. Good luck with your research! Let me know if you have any more questions.\n"
     ]
    }
   ],
   "source": [
    "output = graph.invoke({\"messages\": messages})\n",
    "\n",
    "for m in output[\"messages\"]:\n",
    "    m.pretty_print()"
   ]
  },
  {
   "cell_type": "code",
   "execution_count": null,
   "id": "5294efc8",
   "metadata": {},
   "outputs": [],
   "source": []
  }
 ],
 "metadata": {
  "kernelspec": {
   "display_name": "Python 3 (ipykernel)",
   "language": "python",
   "name": "python3"
  },
  "language_info": {
   "codemirror_mode": {
    "name": "ipython",
    "version": 3
   },
   "file_extension": ".py",
   "mimetype": "text/x-python",
   "name": "python",
   "nbconvert_exporter": "python",
   "pygments_lexer": "ipython3",
   "version": "3.10.12"
  }
 },
 "nbformat": 4,
 "nbformat_minor": 5
}
