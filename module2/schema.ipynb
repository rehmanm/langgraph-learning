{
 "cells": [
  {
   "cell_type": "code",
   "execution_count": null,
   "id": "b52b8fd2-48fa-42bd-a589-75baf3071c8b",
   "metadata": {},
   "outputs": [],
   "source": [
    "%%capture --no-stderr\n",
    "%pip install --quiet -U langgraph"
   ]
  },
  {
   "cell_type": "code",
   "execution_count": null,
   "id": "6dfdcfd0-f6df-45e5-8a28-5e60c28ef397",
   "metadata": {},
   "outputs": [],
   "source": [
    "from typing_extensions import TypedDict\n",
    "from typing import Literal\n",
    "\n",
    "class TypedDictState(TypedDict):\n",
    "    name: str\n",
    "    mood: Literal[\"happy\", \"sad\"]"
   ]
  },
  {
   "cell_type": "code",
   "execution_count": null,
   "id": "03f87488-64ba-41df-a941-658c7ddd2c68",
   "metadata": {},
   "outputs": [],
   "source": [
    "def node_1(state):\n",
    "    print(\"---Node 1---\")\n",
    "    return { \"name\": state[\"name\"] + \" is ... \"}\n",
    "\n",
    "def node_2(state):\n",
    "    print(\"---Node 2---\")\n",
    "    return { \"mood\": \"happy\"}\n",
    "\n",
    "def node_3(state):\n",
    "    print(\"---Node 3---\")\n",
    "    return { \"mood\": \"sad!\"}\n"
   ]
  },
  {
   "cell_type": "code",
   "execution_count": null,
   "id": "5e1b9c7c-93c8-4c7c-8a64-a3b7fb7f6229",
   "metadata": {},
   "outputs": [],
   "source": [
    "import random\n",
    "\n",
    "\n",
    "\n",
    "def decide_mood(state) -> Literal[\"node_2\", \"node_3\"]:\n",
    "    random_number = random.random()\n",
    "    print(f\"random_number: {random_number}\")\n",
    "    if  random_number < 0.5:\n",
    "        return \"node_2\"\n",
    "\n",
    "    return \"node_3\""
   ]
  },
  {
   "cell_type": "markdown",
   "id": "7664620f",
   "metadata": {},
   "source": [
    "from IPython.display import Image, display\n",
    "from langgraph.graph import StateGraph, START, END\n",
    "\n",
    "builder = StateGraph(TypedDictState)\n",
    "builder.add_node(\"node_1\", node_1)\n",
    "builder.add_node(\"node_2\", node_2)\n",
    "builder.add_node(\"node_3\", node_3)\n",
    "\n",
    "builder.add_edge(START, \"node_1\")\n",
    "builder.add_conditional_edges(\"node_1\", decide_mood)\n",
    "\n",
    "builder.add_edge(\"node_2\", END)\n",
    "builder.add_edge(\"node_3\", END)\n",
    "\n",
    "graph = builder.compile()\n",
    "\n",
    "display(Image(graph.get_graph().draw_mermaid_png()))\n",
    "\n",
    "\n"
   ]
  },
  {
   "cell_type": "code",
   "execution_count": null,
   "id": "32349f17-5ce5-4949-9f45-ac5cec97ba0b",
   "metadata": {},
   "outputs": [],
   "source": [
    "graph.invoke({\"name\" : \"Muhammad\"})"
   ]
  },
  {
   "cell_type": "markdown",
   "id": "0ff69d91",
   "metadata": {},
   "source": [
    "# DataClass"
   ]
  },
  {
   "cell_type": "code",
   "execution_count": null,
   "id": "d216a3e5",
   "metadata": {},
   "outputs": [],
   "source": [
    "from dataclasses import dataclass\n",
    "\n",
    "@dataclass\n",
    "class DataClassState:\n",
    "    name: str\n",
    "    mood: Literal[\"happy\", \"sad\"]\n",
    "    "
   ]
  },
  {
   "cell_type": "code",
   "execution_count": null,
   "id": "863f9226",
   "metadata": {},
   "outputs": [],
   "source": [
    "def node_1(state):\n",
    "    print(\"---Node 1---\")\n",
    "    return { \"name\": state.name + \" is ... \"}\n",
    "\n",
    "\n",
    "builder = StateGraph(DataClassState)\n",
    "builder.add_node(\"node_1\", node_1)\n",
    "builder.add_node(\"node_2\", node_2)\n",
    "builder.add_node(\"node_3\", node_3)\n",
    "\n",
    "builder.add_edge(START, \"node_1\")\n",
    "builder.add_conditional_edges(\"node_1\", decide_mood)\n",
    "\n",
    "builder.add_edge(\"node_2\", END)\n",
    "builder.add_edge(\"node_3\", END)\n",
    "\n",
    "graph = builder.compile()\n",
    "\n",
    "display(Image(graph.get_graph().draw_mermaid_png()))"
   ]
  },
  {
   "cell_type": "code",
   "execution_count": null,
   "id": "595b40f0",
   "metadata": {},
   "outputs": [],
   "source": [
    "graph.invoke(DataClassState(name=\"Muhammad\", mood=\"happy\"))"
   ]
  },
  {
   "cell_type": "markdown",
   "id": "11cd30c8",
   "metadata": {},
   "source": [
    "## No validation on mood, you can pass anything"
   ]
  },
  {
   "cell_type": "code",
   "execution_count": null,
   "id": "852d5dcd",
   "metadata": {},
   "outputs": [],
   "source": [
    "graph.invoke(DataClassState(name=\"Muhammad\", mood=\"mad\"))"
   ]
  },
  {
   "cell_type": "markdown",
   "id": "f0aca92b",
   "metadata": {},
   "source": [
    "# Pydantic"
   ]
  },
  {
   "cell_type": "code",
   "execution_count": null,
   "id": "ac62cc87",
   "metadata": {},
   "outputs": [],
   "source": [
    "from langchain_core.pydantic_v1 import BaseModel, validator, ValidationError\n",
    "\n",
    "class PydanticState(BaseModel):\n",
    "    name: str\n",
    "    mood: Literal[\"happy\", \"sad\"]\n",
    "    \n",
    "    @validator('mood')\n",
    "    def validate_mood(cls, value):\n",
    "        if value not in [\"happy\", \"sad\"]:\n",
    "            raise ValueError(\"Each mood must be happy or sad\")\n",
    "        return value\n",
    "    \n",
    "\n",
    "try:\n",
    "    state = PydanticState(name=\"John Doe\", mood=\"mad\")\n",
    "except ValidationError as e:\n",
    "    print(\"Validation Error\", e)"
   ]
  },
  {
   "cell_type": "code",
   "execution_count": null,
   "id": "357934a6",
   "metadata": {},
   "outputs": [],
   "source": [
    "builder = StateGraph(PydanticState)\n",
    "builder.add_node(\"node_1\", node_1)\n",
    "builder.add_node(\"node_2\", node_2)\n",
    "builder.add_node(\"node_3\", node_3)\n",
    "\n",
    "builder.add_edge(START, \"node_1\")\n",
    "builder.add_conditional_edges(\"node_1\", decide_mood)\n",
    "\n",
    "builder.add_edge(\"node_2\", END)\n",
    "builder.add_edge(\"node_3\", END)\n",
    "\n",
    "graph = builder.compile()\n",
    "\n",
    "display(Image(graph.get_graph().draw_mermaid_png()))"
   ]
  },
  {
   "cell_type": "code",
   "execution_count": null,
   "id": "54dcc73d",
   "metadata": {},
   "outputs": [],
   "source": [
    "graph.invoke(PydanticState(name=\"Muhammad\", mood=\"happy\"))"
   ]
  },
  {
   "cell_type": "code",
   "execution_count": null,
   "id": "0c4ffaee",
   "metadata": {},
   "outputs": [],
   "source": [
    "graph.invoke(PydanticState(name=\"Muhammad\", mood=\"mad\"))"
   ]
  },
  {
   "cell_type": "code",
   "execution_count": null,
   "id": "879e791f",
   "metadata": {},
   "outputs": [],
   "source": []
  }
 ],
 "metadata": {
  "kernelspec": {
   "display_name": "Python 3 (ipykernel)",
   "language": "python",
   "name": "python3"
  },
  "language_info": {
   "codemirror_mode": {
    "name": "ipython",
    "version": 3
   },
   "file_extension": ".py",
   "mimetype": "text/x-python",
   "name": "python",
   "nbconvert_exporter": "python",
   "pygments_lexer": "ipython3",
   "version": "3.10.12"
  }
 },
 "nbformat": 4,
 "nbformat_minor": 5
}
