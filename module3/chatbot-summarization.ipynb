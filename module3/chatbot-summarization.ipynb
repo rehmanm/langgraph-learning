{
 "cells": [
  {
   "cell_type": "markdown",
   "id": "b5a26e4f",
   "metadata": {},
   "source": [
    "## Redo Required, Google Gen AI doesn't support async streaming\n"
   ]
  },
  {
   "cell_type": "code",
   "execution_count": null,
   "id": "858cdb34",
   "metadata": {},
   "outputs": [],
   "source": [
    "%%capture --no-stderr\n",
    "%pip install --quiet -U langchain_core langgraph langchain_google_genai"
   ]
  },
  {
   "cell_type": "code",
   "execution_count": null,
   "id": "f922b394",
   "metadata": {},
   "outputs": [],
   "source": [
    "import os, getpass\n",
    "\n",
    "def _set_env(var: str):\n",
    "    if not os.environ.get(var):\n",
    "        os.environ[var] = getpass.getpass(f\"{var}: \")\n",
    "\n",
    "_set_env(\"GOOGLE_API_KEY\")"
   ]
  },
  {
   "cell_type": "code",
   "execution_count": null,
   "id": "768658c9",
   "metadata": {},
   "outputs": [],
   "source": [
    "from langchain_google_genai import ChatGoogleGenerativeAI\n",
    "\n",
    "llm = ChatGoogleGenerativeAI(model=\"gemini-2.0-flash\", temperature=0.0) "
   ]
  },
  {
   "cell_type": "code",
   "execution_count": null,
   "id": "a700d82b",
   "metadata": {},
   "outputs": [],
   "source": [
    "from langgraph.graph import MessagesState\n",
    "\n",
    "class State(MessagesState):\n",
    "    summary: str"
   ]
  },
  {
   "cell_type": "code",
   "execution_count": null,
   "id": "d27924c3",
   "metadata": {},
   "outputs": [],
   "source": [
    "from langchain_core.messages import SystemMessage, HumanMessage, RemoveMessage\n",
    "\n",
    "def call_model(state: State):\n",
    "    \n",
    "    summary = state.get(\"summary\", \"\")\n",
    "    \n",
    "    if summary:\n",
    "        system_message = f\"Summary of conversation earlier: {summary}\"\n",
    "        messages = [SystemMessage(content=system_message)] + state[\"messages\"]\n",
    "    else:\n",
    "        messages = state[\"messages\"]\n",
    "        \n",
    "    response = llm.invoke(messages)\n",
    "    return {\"messages\": response}"
   ]
  },
  {
   "cell_type": "code",
   "execution_count": null,
   "id": "86dec53f",
   "metadata": {},
   "outputs": [],
   "source": [
    "def summarize_conversation(state: State):\n",
    "    \n",
    "    summary = state.get(\"summary\", \"\")\n",
    "    \n",
    "    if summary:\n",
    "        summary_message = \"\"\"\n",
    "            This is the summary of the conversation to date: {summary}\n",
    "            Extend the summary by taken into account the new messages above:\n",
    "        \"\"\"\n",
    "    else:\n",
    "        summary_message = \"Create a summary of the conversation above\"\n",
    "        \n",
    "    \n",
    "    messages = state[\"messages\"] + [HumanMessage(content=summary_message)]\n",
    "    response = llm.invoke(messages)\n",
    "    \n",
    "    delete_messages = [RemoveMessage(id = m.id) for m in state[\"messages\"][:-2]]\n",
    "    \n",
    "    return {\n",
    "        \"summary\": response.content,\n",
    "        \"messages\": delete_messages\n",
    "    }"
   ]
  },
  {
   "cell_type": "code",
   "execution_count": null,
   "id": "14b4c70b",
   "metadata": {},
   "outputs": [],
   "source": [
    "from langgraph.graph import END\n",
    "from typing_extensions import Literal\n",
    "\n",
    "def should_continue(state: State)-> Literal[\"summarize_conversation\", END]:\n",
    "    \"\"\"Return the next node to decide\"\"\"\n",
    "    \n",
    "    messages = state[\"messages\"]\n",
    "    \n",
    "    if len(messages) > 6:\n",
    "        return \"summarize_conversation\"\n",
    "    \n",
    "    return END"
   ]
  },
  {
   "cell_type": "code",
   "execution_count": null,
   "id": "7ccca44f",
   "metadata": {},
   "outputs": [],
   "source": [
    "from IPython.display import Image, display\n",
    "from langgraph.graph import StateGraph, START\n",
    "from langgraph.checkpoint.memory import MemorySaver\n",
    "\n",
    "workflow = StateGraph(State)\n",
    "workflow.add_node(\"conversation\", call_model)\n",
    "workflow.add_node(summarize_conversation)\n",
    "\n",
    "workflow.add_edge(START, \"conversation\")\n",
    "workflow.add_conditional_edges(\"conversation\", should_continue)\n",
    "workflow.add_edge(\"summarize_conversation\", END)\n",
    "\n",
    "memory = MemorySaver()\n",
    "\n",
    "graph = workflow.compile(checkpointer=memory)\n",
    "\n",
    "display(Image(graph.get_graph().draw_mermaid_png()))"
   ]
  },
  {
   "cell_type": "code",
   "execution_count": null,
   "id": "3cd94dd9",
   "metadata": {},
   "outputs": [],
   "source": [
    "config = {\n",
    "    \"configurable\": {\n",
    "        \"thread_id\": \"1\"\n",
    "    }\n",
    "}\n",
    "\n",
    "for chunk in graph.stream({\n",
    "        \"messages\":[HumanMessage(content=\"Hi, I am Muhammad\")]\n",
    "    }, config\n",
    "    , stream_mode=\"updates\"):\n",
    "    print(chunk)"
   ]
  },
  {
   "cell_type": "code",
   "execution_count": null,
   "id": "f0eb9ae1",
   "metadata": {},
   "outputs": [],
   "source": [
    "for chunk in graph.stream({\n",
    "        \"messages\":[HumanMessage(content=\"Hi, I am Muhammad\")]\n",
    "    }, config\n",
    "    , stream_mode=\"updates\"):\n",
    "    chunk[\"conversation\"][\"messages\"].pretty_print()"
   ]
  },
  {
   "cell_type": "code",
   "execution_count": null,
   "id": "f44d26a8",
   "metadata": {},
   "outputs": [],
   "source": [
    "config = {\n",
    "    \"configurable\": {\n",
    "        \"thread_id\": \"3\"\n",
    "    }\n",
    "}\n",
    "\n",
    "for event in graph.stream({\n",
    "        \"messages\":[HumanMessage(content=\"Hi, I am Muhammad\")]\n",
    "    }, config\n",
    "    , stream_mode=\"values\"):\n",
    "    for m in event[\"messages\"]:\n",
    "        m.pretty_print()\n",
    "        print(\"---\"*25)"
   ]
  },
  {
   "cell_type": "code",
   "execution_count": null,
   "id": "66de57e7",
   "metadata": {},
   "outputs": [],
   "source": [
    "config = {\n",
    "    \"configurable\": {\n",
    "        \"thread_id\": \"11\"\n",
    "    }\n",
    "}\n",
    "\n",
    "## Google Gen Ai doesn't support asynchronus stream\n",
    "\n",
    "async for event in graph.astream_events({\n",
    "        \"messages\":[HumanMessage(content=\"Tell me about 49ers NFL team\")]\n",
    "    }, config\n",
    "    , version = \"v2\"):\n",
    "    print(f\"Node: {event['metadata'].get('langgraph_node', '')}. Type:{event['event']}.  Name: {event['name']}\")"
   ]
  },
  {
   "cell_type": "code",
   "execution_count": null,
   "id": "9fd8a063",
   "metadata": {},
   "outputs": [],
   "source": [
    "config = {\n",
    "    \"configurable\": {\n",
    "        \"thread_id\": \"8\"\n",
    "    }\n",
    "}\n",
    "\n",
    "async for event in graph.astream_events({\n",
    "        \"messages\":[HumanMessage(content=\"Tell me about 49ers NFL team\")]\n",
    "    }, config\n",
    "    , version = \"v2\"):\n",
    "    if event[\"event\"] == \"on_chain_model_stream\" and event['metadata'].get('langgraph_node', '') == \"conversation\":\n",
    "        print(event[\"data\"])"
   ]
  },
  {
   "cell_type": "code",
   "execution_count": null,
   "id": "8ee30b02",
   "metadata": {},
   "outputs": [],
   "source": []
  }
 ],
 "metadata": {
  "kernelspec": {
   "display_name": "Python 3 (ipykernel)",
   "language": "python",
   "name": "python3"
  },
  "language_info": {
   "codemirror_mode": {
    "name": "ipython",
    "version": 3
   },
   "file_extension": ".py",
   "mimetype": "text/x-python",
   "name": "python",
   "nbconvert_exporter": "python",
   "pygments_lexer": "ipython3",
   "version": "3.10.12"
  }
 },
 "nbformat": 4,
 "nbformat_minor": 5
}
